{
 "cells": [
  {
   "cell_type": "markdown",
   "metadata": {},
   "source": [
    "### Since we're running everything on Google's remote servers, we need to re-load all the software packages we'll use each time we open a notebook.\n",
    "\n",
    "### Please run the following two cells to install all the necessary software. Note that it could take a couple of minutes."
   ]
  },
  {
   "cell_type": "code",
   "execution_count": null,
   "metadata": {},
   "outputs": [],
   "source": [
    "#STEP 1: Enable the \"Anaconda\" package manager in this Google Colab Notebook:\n",
    "!pip install -q condacolab\n",
    "import condacolab\n",
    "condacolab.install()"
   ]
  },
  {
   "cell_type": "code",
   "execution_count": null,
   "metadata": {},
   "outputs": [],
   "source": [
    "#STEP 2: Install the free SCIP optimization problem solver\n",
    "!conda install conda-forge::scip\n",
    "\n",
    "#STEP 3: Download and install my \"PyomoTools\" package.\n",
    "#   This will install all other pieces of software we need.\n",
    "!git clone https://github.com/NathanDavisBarrett/PyomoTools.git\n",
    "%cd PyomoTools\n",
    "!pip install .\n",
    "%cd ..\n",
    "\n",
    "#At the end of this cell, you'll get a popup window asking you to restart. Please click \"cancel\"."
   ]
  },
  {
   "cell_type": "markdown",
   "metadata": {},
   "source": [
    "# Two-Stage Retirement Planning Model\n",
    "\n",
    "$$max \\sum_{s \\in \\textbf{S}} \\pi_s \\sum_{a \\in \\textbf{A}} B_{a,t^{END},s}$$\n",
    "$$----\\text{ subject to }----$$\n",
    "$$B_{a,t,s} = \\left(B_{a,t-1,s}-W_{a,t-1,s}\\right) \\times (1 + \\delta_{a,s}) \\ \\ \\forall a \\in \\textbf{A}, t \\in \\textbf{T}^{NON-INIT}, s \\in \\textbf{S}$$\n",
    "$$\\alpha_a W_{a,t,s} = \\omega_t F_a \\ \\ \\forall a \\in \\textbf{A}, t \\in \\textbf{T}, s \\in \\textbf{S}, $$\n",
    "$$B_{a,0,s} = \\beta{a} \\ \\ \\forall a \\in \\textbf{A}, s \\in \\textbf{S}$$\n",
    "$$W_{a,t,s} \\leq 0 \\ \\ \\forall a \\in \\textbf{A}, t \\in \\textbf{T}, s \\in \\textbf{S}$$\n",
    "$$\\sum_{a \\in \\textbf{A}} F_a = 1$$"
   ]
  },
  {
   "cell_type": "code",
   "execution_count": 102,
   "metadata": {},
   "outputs": [],
   "source": [
    "import pyomo.environ as pyo\n",
    "import numpy as np\n",
    "import matplotlib.pyplot as plt"
   ]
  },
  {
   "cell_type": "markdown",
   "metadata": {},
   "source": [
    "### STEP 1: Define Sets"
   ]
  },
  {
   "cell_type": "code",
   "execution_count": 103,
   "metadata": {},
   "outputs": [],
   "source": [
    "model = pyo.ConcreteModel()\n",
    "\n",
    "model.setA = pyo.Set(initialize=[\"IRA\", \"401k\", \"Brokerage\"])\n",
    "model.setT = pyo.Set(initialize=list(range(12 * 25))) #12 months over 25 years\n",
    "model.setS = pyo.Set(initialize=[1,2,3,4])"
   ]
  },
  {
   "cell_type": "markdown",
   "metadata": {},
   "source": [
    "### STEP 2: Define Parameters"
   ]
  },
  {
   "cell_type": "code",
   "execution_count": 104,
   "metadata": {},
   "outputs": [],
   "source": [
    "alpha = {\n",
    "    \"IRA\": 1,\n",
    "    \"401k\": 0.8,\n",
    "    \"Brokerage\": 0.7\n",
    "}\n",
    "\n",
    "beta = {\n",
    "    \"IRA\":       300000,\n",
    "    \"401k\":      900000,\n",
    "    \"Brokerage\":  50000 \n",
    "}\n",
    "\n",
    "pi = {1: 0.05, 2: 0.1, 3: 0.6, 4: 0.25}\n",
    "\n",
    "delta = {\n",
    "    \"IRA\": {\n",
    "        1: 0.02/12,\n",
    "        2: 0.07/12,\n",
    "        3: 0.07/12,\n",
    "        4: 0.08/12\n",
    "    },\n",
    "    \"401k\": {\n",
    "        1: 0.03/12,\n",
    "        2: 0.06/12,\n",
    "        3: 0.10/12,\n",
    "        4: 0.05/12\n",
    "    },\n",
    "    \"Brokerage\": {\n",
    "        1: -0.02/12,\n",
    "        2: 0.20/12,\n",
    "        3: 0.12/12,\n",
    "        4: 0.00/12\n",
    "    }\n",
    "}\n",
    "\n",
    "omega = {t: 8000*(1+0.02/12)**t for t in model.setT} #\"**\" means exponent in python"
   ]
  },
  {
   "cell_type": "markdown",
   "metadata": {},
   "source": [
    "### STEP 3: Define Variables"
   ]
  },
  {
   "cell_type": "code",
   "execution_count": 105,
   "metadata": {},
   "outputs": [],
   "source": [
    "model.B = pyo.Var(model.setA * model.setT * model.setS, domain=pyo.NonNegativeReals)\n",
    "model.W = pyo.Var(model.setA * model.setT * model.setS, domain=pyo.NonNegativeReals)\n",
    "\n",
    "model.F = pyo.Var(model.setA,domain=pyo.NonNegativeReals)\n"
   ]
  },
  {
   "cell_type": "markdown",
   "metadata": {},
   "source": [
    "### STEP 4: Define Constraints"
   ]
  },
  {
   "cell_type": "code",
   "execution_count": 106,
   "metadata": {},
   "outputs": [],
   "source": [
    "model.setT_NON_INIT = pyo.Set(initialize=[t for t in model.setT if t != 0])\n",
    "\n",
    "def SubsequentBalanceEquation(model,a,t,s):\n",
    "    return model.B[a,t,s] == (model.B[a,t-1,s]-model.W[a,t-1,s]) * (1 + delta[a][s])\n",
    "model.SubsequentBalanceEquation = pyo.Constraint(model.setA * model.setT_NON_INIT * model.setS, rule=SubsequentBalanceEquation)\n",
    "\n",
    "def WithdrawalEnforcement(model,a,t,s):\n",
    "    return alpha[a] * model.W[a,t,s] == model.F[a] * omega[t]\n",
    "model.WithdrawalEnforcement = pyo.Constraint(model.setA * model.setT * model.setS,rule=WithdrawalEnforcement)\n",
    "\n",
    "def InitialBalanceEnforcement(model,a,s):\n",
    "    return model.B[a,0,s] == beta[a]\n",
    "model.InitialBalanceEnforcement = pyo.Constraint(model.setA * model.setS,rule=InitialBalanceEnforcement)\n",
    "\n",
    "def Sum_F_Must_Be_1(model):\n",
    "    return sum(model.F[a] for a in model.setA) == 1\n",
    "model.Sum_F_Must_Be_1 = pyo.Constraint(rule=Sum_F_Must_Be_1)"
   ]
  },
  {
   "cell_type": "markdown",
   "metadata": {},
   "source": [
    "### STEP 5: Define Objective"
   ]
  },
  {
   "cell_type": "code",
   "execution_count": 107,
   "metadata": {},
   "outputs": [],
   "source": [
    "tEnd = np.max(model.setT)\n",
    "\n",
    "model.Obj = pyo.Objective(expr=sum(pi[s] * model.B[a,tEnd,s] for a in model.setA for s in model.setS), sense=pyo.maximize)"
   ]
  },
  {
   "cell_type": "markdown",
   "metadata": {},
   "source": [
    "### STEP 6: Solve the Model"
   ]
  },
  {
   "cell_type": "code",
   "execution_count": 108,
   "metadata": {},
   "outputs": [
    {
     "name": "stdout",
     "output_type": "stream",
     "text": [
      "WARNING: Loading a SolverResults object with a warning status into\n",
      "    model.name=\"unknown\";\n",
      "      - termination condition: infeasible\n",
      "      - message from solver: infeasible\n"
     ]
    }
   ],
   "source": [
    "solver = pyo.SolverFactory(\"scip\")\n",
    "solver.solve(model);"
   ]
  },
  {
   "cell_type": "markdown",
   "metadata": {},
   "source": [
    "### STEP 7: Extract the Results\n",
    "\n",
    "For our stochastic model, the real result here is what **policy** we should adopt. Then, when we're going through real life (a scenario that probably did't exactly appear in our scenarios), we'll just use this generic policy.\n",
    "\n",
    "For us, the policy was to find which fraction to withdraw from each account: $F_{a}$"
   ]
  },
  {
   "cell_type": "code",
   "execution_count": 109,
   "metadata": {},
   "outputs": [
    {
     "name": "stdout",
     "output_type": "stream",
     "text": [
      "ERROR: evaluating object as numeric value: F[IRA]\n",
      "        (object: <class 'pyomo.core.base.var._GeneralVarData'>)\n",
      "    No value for uninitialized NumericValue object F[IRA]\n"
     ]
    },
    {
     "ename": "ValueError",
     "evalue": "No value for uninitialized NumericValue object F[IRA]",
     "output_type": "error",
     "traceback": [
      "\u001b[1;31m---------------------------------------------------------------------------\u001b[0m",
      "\u001b[1;31mValueError\u001b[0m                                Traceback (most recent call last)",
      "Cell \u001b[1;32mIn[109], line 2\u001b[0m\n\u001b[0;32m      1\u001b[0m \u001b[38;5;28;01mfor\u001b[39;00m a \u001b[38;5;129;01min\u001b[39;00m model\u001b[38;5;241m.\u001b[39msetA:\n\u001b[1;32m----> 2\u001b[0m     \u001b[38;5;28mprint\u001b[39m(\u001b[38;5;124mf\u001b[39m\u001b[38;5;124m\"\u001b[39m\u001b[38;5;124mF[\u001b[39m\u001b[38;5;132;01m{\u001b[39;00ma\u001b[38;5;132;01m}\u001b[39;00m\u001b[38;5;124m] = \u001b[39m\u001b[38;5;132;01m{\u001b[39;00mpyo\u001b[38;5;241m.\u001b[39mvalue(model\u001b[38;5;241m.\u001b[39mF[a])\u001b[38;5;132;01m:\u001b[39;00m\u001b[38;5;124m.2f\u001b[39m\u001b[38;5;132;01m}\u001b[39;00m\u001b[38;5;124m\"\u001b[39m)\n",
      "File \u001b[1;32mpyomo\\core\\expr\\numvalue.pyx:153\u001b[0m, in \u001b[0;36mpyomo.core.expr.numvalue.value\u001b[1;34m()\u001b[0m\n",
      "File \u001b[1;32mpyomo\\core\\expr\\numvalue.pyx:140\u001b[0m, in \u001b[0;36mpyomo.core.expr.numvalue.value\u001b[1;34m()\u001b[0m\n",
      "\u001b[1;31mValueError\u001b[0m: No value for uninitialized NumericValue object F[IRA]"
     ]
    }
   ],
   "source": [
    "for a in model.setA:\n",
    "    print(f\"F[{a}] = {pyo.value(model.F[a]):.2f}\")"
   ]
  },
  {
   "cell_type": "markdown",
   "metadata": {},
   "source": [
    "### AH! The model is infeasible! Why might that be? \n",
    "\n",
    "* You might not have enough money in your accounts to that your ending balance is not negative for EVERY scenario.\n",
    "* How can we rectify this?"
   ]
  }
 ],
 "metadata": {
  "kernelspec": {
   "display_name": "Maravelias",
   "language": "python",
   "name": "python3"
  },
  "language_info": {
   "codemirror_mode": {
    "name": "ipython",
    "version": 3
   },
   "file_extension": ".py",
   "mimetype": "text/x-python",
   "name": "python",
   "nbconvert_exporter": "python",
   "pygments_lexer": "ipython3",
   "version": "3.10.12"
  }
 },
 "nbformat": 4,
 "nbformat_minor": 2
}
