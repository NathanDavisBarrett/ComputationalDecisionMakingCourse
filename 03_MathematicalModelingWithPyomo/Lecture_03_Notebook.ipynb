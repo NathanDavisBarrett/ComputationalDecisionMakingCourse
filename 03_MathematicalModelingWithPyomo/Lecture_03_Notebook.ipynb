{
 "cells": [
  {
   "cell_type": "markdown",
   "metadata": {},
   "source": [
    "### Since we're running everything on Google's remote servers, we need to re-load all the software packages we'll use each time we open a notebook.\n",
    "\n",
    "### Please run the following two cells to install all the necessary software. Note that it could take a couple of minutes."
   ]
  },
  {
   "cell_type": "code",
   "execution_count": null,
   "metadata": {},
   "outputs": [],
   "source": [
    "#STEP 1: Enable the \"Anaconda\" package manager in this Google Colab Notebook:\n",
    "!pip install -q condacolab\n",
    "import condacolab\n",
    "condacolab.install()"
   ]
  },
  {
   "cell_type": "code",
   "execution_count": null,
   "metadata": {},
   "outputs": [],
   "source": [
    "#STEP 2: Install the free SCIP optimization problem solver\n",
    "!conda install conda-forge::scip\n",
    "\n",
    "#STEP 3: Download and install my \"PyomoTools\" package.\n",
    "#   This will install all other pieces of software we need.\n",
    "!git clone https://github.com/NathanDavisBarrett/PyomoTools.git\n",
    "%cd PyomoTools\n",
    "!pip install .\n",
    "%cd ..\n",
    "\n",
    "#At the end of this cell, you'll get a popup window asking you to restart. Please click \"cancel\"."
   ]
  },
  {
   "cell_type": "markdown",
   "metadata": {},
   "source": [
    "# Math Modeling With Pyomo"
   ]
  },
  {
   "cell_type": "code",
   "execution_count": 1,
   "metadata": {},
   "outputs": [],
   "source": [
    "import pyomo.environ as pyo\n",
    "import numpy as np\n",
    "import matplotlib.pyplot as plt\n",
    "import pandas as pd"
   ]
  },
  {
   "cell_type": "markdown",
   "metadata": {},
   "source": [
    "# SECTION 1: Getting to know Pyomo Objects"
   ]
  },
  {
   "cell_type": "markdown",
   "metadata": {},
   "source": [
    "### Pyomo ConcreteModel\n",
    "\n",
    "Syntax:\n",
    "\n",
    "```__ModelName__ = pyo.ConcreteModel()```"
   ]
  },
  {
   "cell_type": "code",
   "execution_count": 2,
   "metadata": {},
   "outputs": [],
   "source": [
    "model = pyo.ConcreteModel()"
   ]
  },
  {
   "cell_type": "markdown",
   "metadata": {},
   "source": [
    "### Pyomo Sets\n",
    "\n",
    "Syntax:\n",
    "\n",
    "```__ModelName__.__SetName__ = pyo.Set(initialize=__SetContents__)```"
   ]
  },
  {
   "cell_type": "code",
   "execution_count": 3,
   "metadata": {},
   "outputs": [],
   "source": [
    "model.mySet = pyo.Set(initialize=[\"A\",\"B\",\"C\"])"
   ]
  },
  {
   "cell_type": "markdown",
   "metadata": {},
   "source": [
    "### Parameters\n",
    "\n",
    "Not explicitly represented in Pyomo. Just use regular Python variables."
   ]
  },
  {
   "cell_type": "code",
   "execution_count": 4,
   "metadata": {},
   "outputs": [],
   "source": [
    "myParam = 15.23\n",
    "myListParam = [0.87,0.56,0.24]\n",
    "myDictParam = {\"A\": 25, \"B\": 40, \"C\":96}"
   ]
  },
  {
   "cell_type": "markdown",
   "metadata": {},
   "source": [
    "### Pyomo Variables\n",
    "\n",
    "Syntax:\n",
    "\n",
    "```__ModelName__.__VariableName__ = pyo.Var(__SetToDefineOver__,domain=__DomainYouWant__)```"
   ]
  },
  {
   "cell_type": "code",
   "execution_count": 5,
   "metadata": {},
   "outputs": [],
   "source": [
    "model.myContinuousVariable = pyo.Var(model.mySet, domain=pyo.Reals)\n",
    "model.myBinaryVariable = pyo.Var(model.mySet * model.mySet, domain=pyo.Binary)\n",
    "model.myIntegerVariable = pyo.Var(model.mySet, domain=pyo.Integers)"
   ]
  },
  {
   "cell_type": "markdown",
   "metadata": {},
   "source": [
    "### Pyomo Constraints\n",
    "\n",
    "Syntax:\n",
    "\n",
    "```__ModelName__.__ConstraintName__ = pyo.Constraint(__SetToDefineOver__,rule=__ConstructingFunction__)```"
   ]
  },
  {
   "cell_type": "markdown",
   "metadata": {},
   "source": [
    "Example Constraints:\n",
    "\n",
    "$$I_i \\leq 5 \\ \\ \\ \\forall i \\in \\textbf{I}$$\n",
    "\n",
    "$$\\sum_{i \\in \\textbf{I}} \\sum_{j \\in \\textbf{I}} B_{i,j} \\leq 1$$\n",
    "\n",
    "$$C_i \\geq 1 \\ \\ \\ \\forall i \\in \\textbf{I}$$\n",
    "\n",
    "$$\\sum_{i \\in \\textbf{I}} C_i \\leq 10$$"
   ]
  },
  {
   "cell_type": "code",
   "execution_count": 6,
   "metadata": {},
   "outputs": [],
   "source": [
    "def IntegersMustBeLessThan5(model,index):\n",
    "    return model.myIntegerVariable[index] <= 5\n",
    "model.IntegersMustBeLessThan5 = pyo.Constraint(model.mySet,rule=IntegersMustBeLessThan5)\n",
    "\n",
    "def OnlyOneBinaryCanBeSelected(model):\n",
    "    return sum(model.myBinaryVariable[index1,index2] for index1 in model.mySet for index2 in model.mySet) <= 1\n",
    "model.OnlyOneBinaryCanBeSelected = pyo.Constraint(rule=OnlyOneBinaryCanBeSelected)\n",
    "\n",
    "def ContinuousVarsMustBeGreaterThan1(model,index):\n",
    "    return model.myContinuousVariable[index] >= 1\n",
    "model.ContinuousVarsMustBeGreaterThan1 = pyo.Constraint(model.mySet,rule=ContinuousVarsMustBeGreaterThan1)\n",
    "\n",
    "def WeirdConstraint(model):\n",
    "    return sum(model.myContinuousVariable[index] for index in model.mySet) <= 10\n",
    "model.WeirdConstraint = pyo.Constraint(rule=WeirdConstraint)"
   ]
  },
  {
   "cell_type": "markdown",
   "metadata": {},
   "source": [
    "### Objective\n",
    "\n",
    "Syntax:\n",
    "\n",
    "```__ModelName__.__ObjectiveName__ = pyo.Objective(expr=__YourExpression__,sense=__YourSense)```\n",
    "\n",
    "Example Objective:\n",
    "\n",
    "$$\\max \\sum_{i \\in \\textbf{I}} I_i + C_i + \\sum_{j \\in \\textbf{I}} B_{i,j}$$"
   ]
  },
  {
   "cell_type": "code",
   "execution_count": 7,
   "metadata": {},
   "outputs": [],
   "source": [
    "model.myObj = pyo.Objective(expr=sum(model.myIntegerVariable[i] + model.myContinuousVariable[i] + sum(model.myBinaryVariable[i,j] for j in model.mySet) for i in model.mySet), sense=pyo.maximize)"
   ]
  },
  {
   "cell_type": "markdown",
   "metadata": {},
   "source": [
    "### Solver\n",
    "\n",
    "Syntax:\n",
    "\n",
    "```__SolverObjectName__ = pyo.SolverFactory(__NameOfTheSolverYouWantToUse__)```\n",
    "\n",
    "```__SolverObjectName__.solve(__ModelName__,...__OtherOptions__...)```"
   ]
  },
  {
   "cell_type": "code",
   "execution_count": 9,
   "metadata": {},
   "outputs": [],
   "source": [
    "solver = pyo.SolverFactory(\"scip\")\n",
    "\n",
    "solver.solve(model,tee=True);"
   ]
  },
  {
   "cell_type": "markdown",
   "metadata": {},
   "source": [
    "### Accessing Results\n",
    "\n",
    "Syntax:\n",
    "\n",
    "```__ResultingValue__ = pyo.value(__YourExpressionOrVariable__)```"
   ]
  },
  {
   "cell_type": "code",
   "execution_count": 12,
   "metadata": {},
   "outputs": [
    {
     "name": "stdout",
     "output_type": "stream",
     "text": [
      "8.0\n",
      "0.0\n"
     ]
    }
   ],
   "source": [
    "value = pyo.value(model.myContinuousVariable[\"A\"])\n",
    "print(value)\n",
    "\n",
    "value2 = pyo.value(model.myBinaryVariable[\"A\",\"B\"])\n",
    "print(value2)"
   ]
  },
  {
   "cell_type": "markdown",
   "metadata": {},
   "source": [
    "# SECTION 2: Route Planning Problem\n",
    "\n",
    "Here, I'll walk you through coding your first mathematical model in Pyomo.\n",
    "\n",
    "We'll use the Route Planning Problem we've dealt with to do so.\n",
    "\n",
    "Recall that we want to find the shortest distance between points A and D given the following paths and associated distances.\n",
    "\n",
    "![](../01_Introduction/RoutePlanningProblem.png)"
   ]
  },
  {
   "cell_type": "markdown",
   "metadata": {},
   "source": [
    "### Step 1: Define the Pyomo ConcreteModel:\n",
    "\n",
    "I'll go ahead and do this for you since it's very simple."
   ]
  },
  {
   "cell_type": "code",
   "execution_count": 15,
   "metadata": {},
   "outputs": [],
   "source": [
    "model = pyo.ConcreteModel()"
   ]
  },
  {
   "cell_type": "markdown",
   "metadata": {},
   "source": [
    "### Step 2: Define Relevant Sets:\n",
    "\n",
    "The relevant sets for this problem are as follows.\n",
    "\n",
    "$$\\textbf{P} = \\{A,B,C,D\\}$$\n",
    "$$\\textbf{P}^{NON-TERM} = \\{B,C\\}$$\n",
    "$$\\textbf{P}^{TERM} = \\{A,D\\}$$\n",
    "$$\\textbf{R} = \\{AB,AC,BC,BD,CD\\}$$\n",
    "$$\\textbf{R}_p:$$\n",
    "|$p$|$\\textbf{R}_p$|\n",
    "|-|-|\n",
    "|$A$|$\\{AB,AC\\}$|\n",
    "|$B$|$\\{AB,BC,BD\\}$|\n",
    "|$C$|$\\{AC,BC,CD\\}$|\n",
    "|$D$|$\\{BD,CD\\}$|\n",
    "\n",
    "I'll go ahead and code in $R_p$. You code in the rest of the sets.\n",
    "\n",
    "Make sure to code in each index as an individual string. For example to write the letter A or the string AB in python, you must wrap them in quotation marks: ```\"A\"```, ```\"AB\"```"
   ]
  },
  {
   "cell_type": "code",
   "execution_count": 16,
   "metadata": {},
   "outputs": [],
   "source": [
    "#TODO: Code in set \"P\" here.\n",
    "\n",
    "\n",
    "#TODO: Code in set \"P_NON_TERM\" here.\n",
    "\n",
    "\n",
    "#TODO: Code in set \"P_TERM\" here.\n",
    "\n",
    "\n",
    "#TODO: Code in set \"R\" here.\n",
    "\n",
    "\n",
    "model.R_A = pyo.Set(initialize=[\"AB\",\"AC\"])\n",
    "model.R_B = pyo.Set(initialize=[\"AB\",\"BC\",\"BD\"])\n",
    "model.R_C = pyo.Set(initialize=[\"AC\",\"BC\",\"CD\"])\n",
    "model.R_D = pyo.Set(initialize=[\"BD\",\"CD\"])\n",
    "\n",
    "#This line just allows us to be able to reference each subset \"p\" of R_p using an easy syntax.\n",
    "model.R_p = {\"A\": model.R_A, \"B\": model.R_B, \"C\": model.R_C, \"D\": model.R_D}"
   ]
  },
  {
   "cell_type": "markdown",
   "metadata": {},
   "source": [
    "### Step 3: Define parameter values\n",
    "\n",
    "For this problem, there is only one parameter: $\\delta_r$\n",
    "\n",
    "Here are the values:\n",
    "\n",
    "|$r$|$\\delta_r$|\n",
    "|-|-|\n",
    "|$AB$|15|\n",
    "|$AC$|5|\n",
    "|$BC$|4|\n",
    "|$BD$|2|\n",
    "|$CD$|10|\n",
    "\n",
    "Go ahead and code in these values."
   ]
  },
  {
   "cell_type": "code",
   "execution_count": 17,
   "metadata": {},
   "outputs": [],
   "source": [
    "delta = {\n",
    "    \"AB\": __VALUE_HERE__,\n",
    "    \"AC\": __VALUE_HERE__,\n",
    "    \"BC\": __VALUE_HERE__,\n",
    "    \"BD\": __VALUE_HERE__,\n",
    "    \"CD\": __VALUE_HERE__\n",
    "}"
   ]
  },
  {
   "cell_type": "markdown",
   "metadata": {},
   "source": [
    "### Step 4: Define Pyomo Variables\n",
    "\n",
    "Here are the variables for this problem:\n",
    "\n",
    "$$X_r \\ \\ \\ \\forall r \\in \\textbf{R} \\ \\text{(Binary Variable)}$$\n",
    "$$Y_p \\ \\ \\ \\forall p \\in \\textbf{P} \\ \\text{(Binary Variable)}$$"
   ]
  },
  {
   "cell_type": "code",
   "execution_count": 18,
   "metadata": {},
   "outputs": [],
   "source": [
    "#TODO: Code in the X variable here\n",
    "\n",
    "\n",
    "#TODO: Code in the Y variable here\n"
   ]
  },
  {
   "cell_type": "markdown",
   "metadata": {},
   "source": [
    "### Step 5: Define Constraints\n",
    "\n",
    "Here are the constraints for this problem. Code them in one by one."
   ]
  },
  {
   "cell_type": "markdown",
   "metadata": {},
   "source": [
    "* If I travel into a non-terminal point, I must travel out of it.\n",
    "\n",
    "$$\\sum_{r \\in \\textbf{R}_p} X_r = 2Y_p \\ \\ \\ \\forall p \\in \\textbf{P}^{NON-TERM}$$"
   ]
  },
  {
   "cell_type": "code",
   "execution_count": 19,
   "metadata": {},
   "outputs": [],
   "source": [
    "#TODO: Code in this constraint here\n"
   ]
  },
  {
   "cell_type": "markdown",
   "metadata": {},
   "source": [
    "* If I travel into or out of a terminal constraint, I must indicate it.\n",
    "\n",
    "$$\\sum_{r \\in \\textbf{R}_p} X_r = Y_p \\ \\ \\ \\forall p \\in \\textbf{P}^{TERM}$$"
   ]
  },
  {
   "cell_type": "code",
   "execution_count": 20,
   "metadata": {},
   "outputs": [],
   "source": [
    "#TODO: Code in this constraint here\n"
   ]
  },
  {
   "cell_type": "markdown",
   "metadata": {},
   "source": [
    "* I have to visit point A and point D.\n",
    "$$Y_p = 1 \\ \\ \\ \\ \\forall p \\in \\textbf{P}^{TERM}$$"
   ]
  },
  {
   "cell_type": "code",
   "execution_count": 21,
   "metadata": {},
   "outputs": [],
   "source": [
    "#TODO: Code in this constraint here\n"
   ]
  },
  {
   "cell_type": "markdown",
   "metadata": {},
   "source": [
    "### Step 6: Define the Objective\n",
    "\n",
    "Here is the objective function for this problem:\n",
    "\n",
    "$$\\min \\sum_{r \\in \\textbf{R}} \\delta_r X_r$$"
   ]
  },
  {
   "cell_type": "code",
   "execution_count": 22,
   "metadata": {},
   "outputs": [],
   "source": [
    "#TODO: Code in this objective here\n"
   ]
  },
  {
   "cell_type": "markdown",
   "metadata": {},
   "source": [
    "### Step 7: Solve (a.k.a. Optimize) the Model"
   ]
  },
  {
   "cell_type": "code",
   "execution_count": 23,
   "metadata": {},
   "outputs": [
    {
     "data": {
      "text/plain": [
       "{'Problem': [{'Lower bound': 11.0, 'Upper bound': 11.0, 'Number of objectives': 1, 'Number of constraints': 0, 'Number of variables': 0, 'Sense': 1}], 'Solver': [{'Status': 'ok', 'Termination condition': 'optimal', 'Termination message': 'TerminationCondition.optimal'}], 'Solution': [OrderedDict([('number of solutions', 0), ('number of solutions displayed', 0)])]}"
      ]
     },
     "execution_count": 23,
     "metadata": {},
     "output_type": "execute_result"
    }
   ],
   "source": [
    "#TODO: Create a solver object here (remember to use the \"appsi_highs\" solver)\n",
    "\n",
    "#TODO: Solve the model here\n"
   ]
  },
  {
   "cell_type": "markdown",
   "metadata": {},
   "source": [
    "### Step 8: Extract Results.\n",
    "\n",
    "The details of what you want to extract and how you'll represent the optimal solution are up to you and are specific to the problem you're trying to solve.\n",
    "\n",
    "For this example problem, let's simply print out each of the paths that the solver indicates we should take."
   ]
  },
  {
   "cell_type": "code",
   "execution_count": 24,
   "metadata": {},
   "outputs": [
    {
     "name": "stdout",
     "output_type": "stream",
     "text": [
      "AC\n",
      "BC\n",
      "BD\n"
     ]
    }
   ],
   "source": [
    "#TODO: Create a Python for loop here to iterate over each of the paths in \"R\"\n",
    "\n",
    "\n",
    "    #TODO: Extract the value of \"X\" for this path and store it in a python variable called \"Xval\"\n",
    "\n",
    "\n",
    "\n",
    "    #TODO: Test if Xval is greater than 0.5. If it is, print out the name of this path.\n",
    "    #Remember that X should return a binary value. Thus the only valid value greater than 0.5 would be 1. However, computers always have a hard time comparing numbers that are very close.\n",
    "    #For example, the solver might return that the value of Xval is 0.999999999\n",
    "    #If we check 0.9999999999 == 1, we will get False.\n",
    "    #Thus, checking to see if Xval >= 0.5 is an acceptable way to test the value of a binary result.\n"
   ]
  },
  {
   "cell_type": "markdown",
   "metadata": {},
   "source": [
    "This is a simple problem that you can probably solve without a computer. Go back up and look at the map. What should the optimal path be?\n",
    "\n",
    "Are the results you got correct?"
   ]
  },
  {
   "cell_type": "markdown",
   "metadata": {},
   "source": [
    "# SECTION 3: My Recommended Pyomo Workflow\n",
    "\n",
    "Here is another rendition of the RoutePlanning Problem but this time using my recommended way of organizing your code.\n",
    "\n",
    "As a note, this is approach is one way to organize your code. It is by no means the only way to do it, nor is it the \"best\" way to do it.\n",
    "\n",
    "But in the hundreds of models I've created, I've found this approach to be a good way to keep things organized, readable, and typo-free."
   ]
  },
  {
   "cell_type": "code",
   "execution_count": 25,
   "metadata": {},
   "outputs": [],
   "source": [
    "class Parameters:\n",
    "    \"\"\"\n",
    "    A class to house all the parameters relevant to the Route Planning Example Problem\n",
    "    \"\"\"\n",
    "    def __init__(self):\n",
    "        #Specify all parameters here making sure to say \"self.\" before each one.\n",
    "        self.Points = [\"A\",\"B\",\"C\",\"D\"]\n",
    "        self.Connections = [\"AB\",\"AC\",\"BC\",\"BD\",\"CD\"]\n",
    "        self.TerminalPoints = [\"A\",\"D\"]\n",
    "\n",
    "        self.delta = {\n",
    "            \"AB\": 15,\n",
    "            \"AC\": 5,\n",
    "            \"BC\": 4,\n",
    "            \"BD\": 2,\n",
    "            \"CD\": 10\n",
    "        }"
   ]
  },
  {
   "cell_type": "code",
   "execution_count": 26,
   "metadata": {},
   "outputs": [],
   "source": [
    "from PyomoTools import LoadIndexedSet\n",
    "\n",
    "def AssembleModel(params:Parameters):\n",
    "    \"\"\"\n",
    "    A function to generate an instance of the Pyomo model for the Route Planning Example Problem.\n",
    "\n",
    "    Parameters\n",
    "    ----------\n",
    "    params: Parameters\n",
    "        The Parameters object containing the parameters relevant to this instance.\n",
    "\n",
    "    Returns\n",
    "    -------\n",
    "    model: pyo.ConcreteModel\n",
    "        The Pyomo model for this instance.\n",
    "    \"\"\"\n",
    "\n",
    "    ### STEP 1: Define the Pyomo model\n",
    "    model = pyo.ConcreteModel()\n",
    "\n",
    "    ### STEP 2: Define sets\n",
    "    model.P = pyo.Set(initialize=params.Points)\n",
    "    model.P_NON_TERM = pyo.Set(initialize=list(set(params.Points) - set(params.TerminalPoints)))\n",
    "    model.P_TERM = pyo.Set(initialize=params.TerminalPoints)\n",
    "    model.R = pyo.Set(initialize=params.Connections)\n",
    "    \n",
    "    Rp = {p: [r for r in model.R if p in r] for p in model.P}\n",
    "    LoadIndexedSet(model,\"R_p\",Rp) #This is a function I created to automate the process of adding subsets into a Pyomo model.\n",
    "\n",
    "    ### Step 3: Define oarameters\n",
    "    #This is already done in the Parameters class\n",
    "\n",
    "    ### Step 4: Define variables\n",
    "    model.X = pyo.Var(model.R,domain=pyo.Binary)\n",
    "\n",
    "    model.Y = pyo.Var(model.P,domain=pyo.Binary)\n",
    "\n",
    "    ### Step 5: Define constraints\n",
    "    def NonTerminalTravelConstraint(model,p):\n",
    "        return sum(model.X[r] for r in model.R_p[p]) == 2 * model.Y[p]\n",
    "    model.NonTerminalTravelConstraint = pyo.Constraint(model.P_NON_TERM,rule=NonTerminalTravelConstraint)\n",
    "\n",
    "    def TerminalTravelConstraint(model,p):\n",
    "        return sum(model.X[r] for r in model.R_p[p]) == model.Y[p]\n",
    "    model.TerminalTravelConstraint = pyo.Constraint(model.P_TERM,rule=TerminalTravelConstraint)\n",
    "\n",
    "    def TerminalMandate(model,p):\n",
    "        return model.Y[p] == 1\n",
    "    model.TerminalMandate = pyo.Constraint(model.P_TERM,rule=TerminalMandate)\n",
    "\n",
    "    ### Step 6: Define Objective\n",
    "    model.Obj = pyo.Objective(expr=sum(params.delta[r] * model.X[r] for r in model.R))\n",
    "\n",
    "    return model\n"
   ]
  },
  {
   "cell_type": "code",
   "execution_count": 27,
   "metadata": {},
   "outputs": [],
   "source": [
    "def ExecuteOptimization(model:pyo.ConcreteModel):\n",
    "    \"\"\"\n",
    "    A function to execute the optimization of a pyomo model.\n",
    "\n",
    "    Parameters\n",
    "    ----------\n",
    "    model: pyo.ConcreteModel\n",
    "        The model you'd like to optimize\n",
    "\n",
    "    Returns\n",
    "    -------\n",
    "    None\n",
    "    \"\"\"\n",
    "\n",
    "    #Sometimes there are lots of settings you want to set or special functions you want to call to record the output of this \"solve call\". That's why I normally have a dedicated function for this. But I suppose it's less necessary for this simple problem.\n",
    "    solver = pyo.SolverFactory(\"appsi_highs\")\n",
    "    solver.solve(model)"
   ]
  },
  {
   "cell_type": "code",
   "execution_count": 29,
   "metadata": {},
   "outputs": [],
   "source": [
    "def ExtractResults(model:pyo.ConcreteModel):\n",
    "    \"\"\"\n",
    "    A function to extract the results of a Route Planning Problem model\n",
    "\n",
    "    Parameters\n",
    "    ----------\n",
    "    model: pyo.ConcreteModel\n",
    "        The model from which you'd like to extract the results\n",
    "\n",
    "    Returns\n",
    "    -------\n",
    "    traveledPaths: list\n",
    "        A list of the paths that are to be traveled under the optimal solution\n",
    "    \"\"\"\n",
    "    traveledPaths = []\n",
    "    for r in model.R:\n",
    "        Xval = pyo.value(model.X[r])\n",
    "        if Xval >= 0.5:\n",
    "            traveledPaths.append(r)\n",
    "    return traveledPaths"
   ]
  },
  {
   "cell_type": "code",
   "execution_count": 30,
   "metadata": {},
   "outputs": [
    {
     "name": "stdout",
     "output_type": "stream",
     "text": [
      "['AC', 'BC', 'BD']\n"
     ]
    }
   ],
   "source": [
    "def main():\n",
    "    params = Parameters()\n",
    "    model = AssembleModel(params)\n",
    "    ExecuteOptimization(model)\n",
    "    results = ExtractResults(model)\n",
    "\n",
    "    print(results)\n",
    "\n",
    "main()"
   ]
  }
 ],
 "metadata": {
  "kernelspec": {
   "display_name": "Maravelias",
   "language": "python",
   "name": "python3"
  },
  "language_info": {
   "codemirror_mode": {
    "name": "ipython",
    "version": 3
   },
   "file_extension": ".py",
   "mimetype": "text/x-python",
   "name": "python",
   "nbconvert_exporter": "python",
   "pygments_lexer": "ipython3",
   "version": "3.10.12"
  }
 },
 "nbformat": 4,
 "nbformat_minor": 2
}
