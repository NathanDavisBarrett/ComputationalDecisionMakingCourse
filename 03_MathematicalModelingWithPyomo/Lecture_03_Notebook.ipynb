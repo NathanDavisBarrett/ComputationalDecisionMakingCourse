{
 "cells": [
  {
   "cell_type": "markdown",
   "metadata": {},
   "source": [
    "### Since we're running everything on Google's remote servers, we need to re-load all the software packages we'll use each time we open a notebook.\n",
    "\n",
    "### Please run the following two cells to install all the necessary software. Note that it could take a couple of minutes."
   ]
  },
  {
   "cell_type": "code",
   "execution_count": 2,
   "metadata": {},
   "outputs": [
    {
     "ename": "RuntimeError",
     "evalue": "This module must ONLY run as part of a Colab notebook!",
     "output_type": "error",
     "traceback": [
      "\u001b[1;31m---------------------------------------------------------------------------\u001b[0m",
      "\u001b[1;31mModuleNotFoundError\u001b[0m                       Traceback (most recent call last)",
      "File \u001b[1;32mc:\\Users\\nb5786-A\\miniconda3\\envs\\Maravelias\\lib\\site-packages\\condacolab.py:27\u001b[0m\n\u001b[0;32m     26\u001b[0m \u001b[38;5;28;01mtry\u001b[39;00m:\n\u001b[1;32m---> 27\u001b[0m     \u001b[38;5;28;01mimport\u001b[39;00m \u001b[38;5;21;01mgoogle\u001b[39;00m\u001b[38;5;21;01m.\u001b[39;00m\u001b[38;5;21;01mcolab\u001b[39;00m\n\u001b[0;32m     28\u001b[0m \u001b[38;5;28;01mexcept\u001b[39;00m \u001b[38;5;167;01mImportError\u001b[39;00m:\n",
      "\u001b[1;31mModuleNotFoundError\u001b[0m: No module named 'google.colab'",
      "\nDuring handling of the above exception, another exception occurred:\n",
      "\u001b[1;31mRuntimeError\u001b[0m                              Traceback (most recent call last)",
      "Cell \u001b[1;32mIn[2], line 3\u001b[0m\n\u001b[0;32m      1\u001b[0m \u001b[38;5;66;03m#STEP 1: Enable the \"Anaconda\" package manager in this Google Colab Notebook:\u001b[39;00m\n\u001b[0;32m      2\u001b[0m get_ipython()\u001b[38;5;241m.\u001b[39msystem(\u001b[38;5;124m'\u001b[39m\u001b[38;5;124mpip install -q condacolab\u001b[39m\u001b[38;5;124m'\u001b[39m)\n\u001b[1;32m----> 3\u001b[0m \u001b[38;5;28;01mimport\u001b[39;00m \u001b[38;5;21;01mcondacolab\u001b[39;00m\n\u001b[0;32m      4\u001b[0m condacolab\u001b[38;5;241m.\u001b[39minstall()\n",
      "File \u001b[1;32mc:\\Users\\nb5786-A\\miniconda3\\envs\\Maravelias\\lib\\site-packages\\condacolab.py:29\u001b[0m\n\u001b[0;32m     27\u001b[0m     \u001b[38;5;28;01mimport\u001b[39;00m \u001b[38;5;21;01mgoogle\u001b[39;00m\u001b[38;5;21;01m.\u001b[39;00m\u001b[38;5;21;01mcolab\u001b[39;00m\n\u001b[0;32m     28\u001b[0m \u001b[38;5;28;01mexcept\u001b[39;00m \u001b[38;5;167;01mImportError\u001b[39;00m:\n\u001b[1;32m---> 29\u001b[0m     \u001b[38;5;28;01mraise\u001b[39;00m \u001b[38;5;167;01mRuntimeError\u001b[39;00m(\u001b[38;5;124m\"\u001b[39m\u001b[38;5;124mThis module must ONLY run as part of a Colab notebook!\u001b[39m\u001b[38;5;124m\"\u001b[39m)\n\u001b[0;32m     32\u001b[0m __version__ \u001b[38;5;241m=\u001b[39m \u001b[38;5;124m\"\u001b[39m\u001b[38;5;124m0.1.9\u001b[39m\u001b[38;5;124m\"\u001b[39m\n\u001b[0;32m     33\u001b[0m __author__ \u001b[38;5;241m=\u001b[39m \u001b[38;5;124m\"\u001b[39m\u001b[38;5;124mJaime Rodríguez-Guerra <jaimergp@users.noreply.github.com>\u001b[39m\u001b[38;5;124m\"\u001b[39m\n",
      "\u001b[1;31mRuntimeError\u001b[0m: This module must ONLY run as part of a Colab notebook!"
     ]
    }
   ],
   "source": [
    "#STEP 1: Enable the \"Anaconda\" package manager in this Google Colab Notebook:\n",
    "!pip install -q condacolab\n",
    "import condacolab\n",
    "condacolab.install()"
   ]
  },
  {
   "cell_type": "code",
   "execution_count": null,
   "metadata": {},
   "outputs": [],
   "source": [
    "#STEP 2: Install the free SCIP optimization problem solver\n",
    "!conda install conda-forge::scip\n",
    "\n",
    "#STEP 3: Download and install my \"PyomoTools\" package.\n",
    "#   This will install all other pieces of software we need.\n",
    "!git clone https://github.com/NathanDavisBarrett/PyomoTools.git\n",
    "%cd PyomoTools\n",
    "!pip install .\n",
    "%cd ..\n",
    "\n",
    "#At the end of this cell, you'll get a popup window asking you to restart. Please click \"cancel\"."
   ]
  },
  {
   "cell_type": "markdown",
   "metadata": {},
   "source": [
    "# Math Modeling With Pyomo"
   ]
  },
  {
   "cell_type": "code",
   "execution_count": 3,
   "metadata": {},
   "outputs": [],
   "source": [
    "import pyomo.environ as pyo\n",
    "import numpy as np\n",
    "import matplotlib.pyplot as plt\n",
    "import pandas as pd"
   ]
  },
  {
   "cell_type": "markdown",
   "metadata": {},
   "source": [
    "# SECTION 1: Getting to know Pyomo Objects (Etsy Shop Problem)"
   ]
  },
  {
   "cell_type": "markdown",
   "metadata": {},
   "source": [
    "### Pyomo ConcreteModel\n",
    "\n",
    "Syntax:\n",
    "\n",
    "```__ModelName__ = pyo.ConcreteModel()```"
   ]
  },
  {
   "cell_type": "code",
   "execution_count": 4,
   "metadata": {},
   "outputs": [],
   "source": [
    "model = pyo.ConcreteModel()"
   ]
  },
  {
   "cell_type": "markdown",
   "metadata": {},
   "source": [
    "### Pyomo Sets\n",
    "\n",
    "Syntax:\n",
    "\n",
    "```__ModelName__.__SetName__ = pyo.Set(initialize=__SetContents__)```\n",
    "\n",
    "In math, we have the following sets:\n",
    "\n",
    "* $p \\in \\textbf{P}$: A set of all people\n",
    "* $r \\in \\textbf{R}$: A set of all products\n",
    "\n",
    "Here's how we'd write it in python:"
   ]
  },
  {
   "cell_type": "code",
   "execution_count": 5,
   "metadata": {},
   "outputs": [],
   "source": [
    "model.peopleSet = pyo.Set(initialize=[\"Jack\",\"Jill\"])\n",
    "model.productSet = pyo.Set(initialize=[\"Sculptures\",\"Shirts\"])"
   ]
  },
  {
   "cell_type": "markdown",
   "metadata": {},
   "source": [
    "### Parameters\n",
    "\n",
    "Not explicitly represented in Pyomo. Just use regular Python variables.\n",
    "\n",
    "In math, we have the following parameters:\n",
    "* $\\alpha_{p,r}$\n",
    "* $\\tau$\n",
    "* $\\kappa$\n",
    "\n",
    "Here's how we'd write it in python:"
   ]
  },
  {
   "cell_type": "code",
   "execution_count": 6,
   "metadata": {},
   "outputs": [],
   "source": [
    "#The number of each product that can be produced by each person in an hour\n",
    "#   Parameters can also be loaded from an Excel Sheet. We'll cover how to do that later.\n",
    "alpha = {\n",
    "    \"Jack\": {\n",
    "        \"Shirts\": 5,\n",
    "        \"Sculptures\": 2\n",
    "    },\n",
    "    \"Jill\": {\n",
    "        \"Shirts\": 9,\n",
    "        \"Sculptures\": 3\n",
    "    }\n",
    "}\n",
    "\n",
    "#The number of hours each person can work in a day\n",
    "tau = 8\n",
    "\n",
    "#The number of shirts needed\n",
    "kappa = 25"
   ]
  },
  {
   "cell_type": "markdown",
   "metadata": {},
   "source": [
    "### Pyomo Variables\n",
    "\n",
    "Syntax:\n",
    "\n",
    "```__ModelName__.__VariableName__ = pyo.Var(__SetToDefineOver__,domain=__DomainYouWant__)```\n",
    "\n",
    "In math, we have the following variables:\n",
    "\n",
    "* $H_{p,r} \\ \\ \\ \\forall p \\in \\textbf{P}, r \\in \\textbf{R}$\n",
    "* $N_r \\ \\ \\ \\forall r \\in \\textbf{R}$\n",
    "\n",
    "Here's how we'd write it in python:"
   ]
  },
  {
   "cell_type": "code",
   "execution_count": 7,
   "metadata": {},
   "outputs": [],
   "source": [
    "model.H = pyo.Var(model.peopleSet * model.productSet, domain=pyo.NonNegativeReals)\n",
    "model.N = pyo.Var(model.productSet, domain=pyo.NonNegativeReals)"
   ]
  },
  {
   "cell_type": "markdown",
   "metadata": {},
   "source": [
    "### Pyomo Constraints\n",
    "\n",
    "Syntax:\n",
    "\n",
    "```__ModelName__.__ConstraintName__ = pyo.Constraint(__SetToDefineOver__,rule=__ConstructingFunction__)```"
   ]
  },
  {
   "cell_type": "markdown",
   "metadata": {},
   "source": [
    "In math, we have the following constraints:\n",
    "\n",
    "$$0 \\leq \\sum_{r \\in \\textbf{R}} H_{p,r} \\leq \\tau^{DAY} \\ \\ \\forall p \\in \\textbf{P}$$\n",
    "$$N_{r} = \\sum_{p \\in \\textbf{P}} \\alpha_{p,r} H_{p,r}\\ \\ \\ \\forall r \\in \\textbf{R}$$\n",
    "$$N_{Shirts} = \\kappa$$\n",
    "\n",
    "Here's how we'd write it in python:"
   ]
  },
  {
   "cell_type": "code",
   "execution_count": 8,
   "metadata": {},
   "outputs": [],
   "source": [
    "# Note that 0 <= sum(H) <= tau is actually two constraints:\n",
    "#   0 <= sum(H)\n",
    "#   sum(H) <= tau\n",
    "# In python, we need to write it as two separate constraints.\n",
    "def WorkTimeLimit_1(model,p):\n",
    "    return 0 <= sum(model.H[p,r] for r in model.productSet)\n",
    "\n",
    "model.WorkTimeLimit_1 = pyo.Constraint(model.peopleSet, rule=WorkTimeLimit_1)\n",
    "\n",
    "\n",
    "def WorkTimeLimit_2(model,p):\n",
    "    return sum(model.H[p,r] for r in model.productSet) <= tau\n",
    "\n",
    "model.WorkTimeLimit_2 = pyo.Constraint(model.peopleSet, rule=WorkTimeLimit_2)\n",
    "\n",
    "\n",
    "def N_Definition(model,r):\n",
    "    return model.N[r] == sum(alpha[p][r] * model.H[p,r] for p in model.peopleSet)\n",
    "\n",
    "model.N_Definition = pyo.Constraint(model.productSet, rule=N_Definition)\n",
    "\n",
    "\n",
    "def ShirtLimit(model):\n",
    "    return model.N[\"Shirts\"] == kappa\n",
    "\n",
    "model.ShirtLimit = pyo.Constraint(rule=ShirtLimit)"
   ]
  },
  {
   "cell_type": "markdown",
   "metadata": {},
   "source": [
    "### Objective\n",
    "\n",
    "Syntax:\n",
    "\n",
    "```__ModelName__.__ObjectiveName__ = pyo.Objective(expr=__YourExpression__,sense=__YourSense)```\n",
    "\n",
    "Example Objective:\n",
    "\n",
    "$$\\max \\sum_{r \\in \\textbf{R}} N_r$$"
   ]
  },
  {
   "cell_type": "code",
   "execution_count": 9,
   "metadata": {},
   "outputs": [],
   "source": [
    "model.myObj = pyo.Objective(expr=sum(model.N[r] for r in model.productSet), sense=pyo.maximize)"
   ]
  },
  {
   "cell_type": "markdown",
   "metadata": {},
   "source": [
    "### Solver\n",
    "\n",
    "Syntax:\n",
    "\n",
    "```__SolverObjectName__ = pyo.SolverFactory(__NameOfTheSolverYouWantToUse__)```\n",
    "\n",
    "```__SolverObjectName__.solve(__ModelName__,...__OtherOptions__...)```"
   ]
  },
  {
   "cell_type": "code",
   "execution_count": 10,
   "metadata": {},
   "outputs": [
    {
     "name": "stdout",
     "output_type": "stream",
     "text": [
      "SCIP version 9.0.1 [precision: 8 byte] [memory: block] [mode: optimized] [LP solver: Soplex 7.0.1] [GitHash: bebb64304e]\n",
      "Copyright (c) 2002-2024 Zuse Institute Berlin (ZIB)\n",
      "\n",
      "External libraries: \n",
      "  Soplex 7.0.1         Linear Programming Solver developed at Zuse Institute Berlin (soplex.zib.de) [GitHash: 1cc71921]\n",
      "  CppAD 20180000.0     Algorithmic Differentiation of C++ algorithms developed by B. Bell (github.com/coin-or/CppAD)\n",
      "  MPIR 3.0.0           Multiple Precision Integers and Rationals Library developed by W. Hart (mpir.org)\n",
      "  ZIMPL 3.6.0          Zuse Institute Mathematical Programming Language developed by T. Koch (zimpl.zib.de)\n",
      "  AMPL/MP 690e9e7      AMPL .nl file reader library (github.com/ampl/mp)\n",
      "  PaPILO 2.2.1         parallel presolve for integer and linear optimization (github.com/scipopt/papilo) (built with TBB) [GitHash: 3f1f0d53]\n",
      "  bliss 0.77           Computing Graph Automorphisms by T. Junttila and P. Kaski (users.aalto.fi/~tjunttil/bliss)\n",
      "  sassy 1.1            Symmetry preprocessor by Markus Anders (github.com/markusa4/sassy)\n",
      "  Ipopt 3.12.9         Interior Point Optimizer developed by A. Waechter et.al. (github.com/coin-or/Ipopt)\n",
      "\n",
      "user parameter file <scip.set> not found - using default parameters\n",
      "read problem <C:\\Users\\nb5786-A\\AppData\\Local\\Temp\\tmp97jlj5m0.pyomo.nl>\n",
      "============\n",
      "\n",
      "original problem has 6 variables (0 bin, 0 int, 0 impl, 6 cont) and 7 constraints\n",
      "\n",
      "solve problem\n",
      "=============\n",
      "\n",
      "presolving:\n",
      "(round 1, fast)       3 del vars, 5 del conss, 0 add conss, 8 chg bounds, 0 chg sides, 0 chg coeffs, 0 upgd conss, 0 impls, 0 clqs\n",
      "(round 2, fast)       5 del vars, 7 del conss, 0 add conss, 8 chg bounds, 0 chg sides, 0 chg coeffs, 0 upgd conss, 0 impls, 0 clqs\n",
      "presolving (3 rounds: 3 fast, 1 medium, 1 exhaustive):\n",
      " 6 deleted vars, 7 deleted constraints, 0 added constraints, 8 tightened bounds, 0 added holes, 0 changed sides, 0 changed coefficients\n",
      " 0 implications, 0 cliques\n",
      "transformed 1/1 original solutions to the transformed problem space\n",
      "Presolving Time: 0.00\n",
      "\n",
      "SCIP Status        : problem is solved [optimal solution found]\n",
      "Solving Time (sec) : 0.00\n",
      "Solving Nodes      : 0\n",
      "Primal Bound       : +5.66666666666667e+01 (1 solutions)\n",
      "Dual Bound         : +5.66666666666667e+01\n",
      "Gap                : 0.00 %\n"
     ]
    }
   ],
   "source": [
    "solver = pyo.SolverFactory(\"scip\")\n",
    "\n",
    "solver.solve(model,tee=True);"
   ]
  },
  {
   "cell_type": "markdown",
   "metadata": {},
   "source": [
    "### Accessing Results\n",
    "\n",
    "Syntax:\n",
    "\n",
    "```__ResultingValue__ = pyo.value(__YourExpressionOrVariable__)```"
   ]
  },
  {
   "cell_type": "code",
   "execution_count": 15,
   "metadata": {},
   "outputs": [
    {
     "name": "stdout",
     "output_type": "stream",
     "text": [
      "There will be 25.000 Shirts made.\n",
      "There will be 31.667 Sculptures made.\n",
      "\n",
      "Schedule:\n",
      "Jack:\n",
      "\tSculptures: 8.000 Hours\n",
      "\tShirts: 0.000 Hours\n",
      "Jill:\n",
      "\tSculptures: 5.222 Hours\n",
      "\tShirts: 2.778 Hours\n"
     ]
    }
   ],
   "source": [
    "totalNumShirts = pyo.value(model.N[\"Shirts\"])\n",
    "totalNumSculptures = pyo.value(model.N[\"Sculptures\"])\n",
    "\n",
    "print(f\"There will be {totalNumShirts:.3f} Shirts made.\")\n",
    "print(f\"There will be {totalNumSculptures:.3f} Sculptures made.\")\n",
    "\n",
    "#... This will take forever if we do it one-by-one\n",
    "print(\"\\nSchedule:\")\n",
    "for p in model.peopleSet:\n",
    "    print(f\"{p}:\")\n",
    "    for r in model.productSet:\n",
    "        print(f\"\\t{r}: {pyo.value(model.H[p,r]):.3f} Hours\")"
   ]
  },
  {
   "cell_type": "markdown",
   "metadata": {},
   "source": [
    "* Notice how there will be 31.667 Sculptures made. Does this make sense?\n",
    "    * Perhaps you'll just have one sculpture that is incomplete. You'll finish it the next day.\n",
    "    * Or maybe we want to constrain that we have to have a whole number of each product made. How would we address that?"
   ]
  },
  {
   "cell_type": "markdown",
   "metadata": {},
   "source": [
    "# SECTION 2: Route Planning Problem\n",
    "\n",
    "Here, I'll walk you through coding your first mathematical model in Pyomo.\n",
    "\n",
    "We'll use the Route Planning Problem we've dealt with to do so.\n",
    "\n",
    "Recall that we want to find the shortest distance between points A and D given the following paths and associated distances.\n",
    "\n",
    "![](RoutePlanningProblem.png)"
   ]
  },
  {
   "cell_type": "markdown",
   "metadata": {},
   "source": [
    "### Step 1: Define the Pyomo ConcreteModel:\n",
    "\n",
    "I'll go ahead and do this for you since it's very simple."
   ]
  },
  {
   "cell_type": "code",
   "execution_count": 15,
   "metadata": {},
   "outputs": [],
   "source": [
    "model = pyo.ConcreteModel()"
   ]
  },
  {
   "cell_type": "markdown",
   "metadata": {},
   "source": [
    "### Step 2: Define Relevant Sets:\n",
    "\n",
    "The relevant sets for this problem are as follows.\n",
    "\n",
    "$$\\textbf{P} = \\{A,B,C,D\\}$$\n",
    "$$\\textbf{P}^{NON-TERM} = \\{B,C\\}$$\n",
    "$$\\textbf{P}^{TERM} = \\{A,D\\}$$\n",
    "$$\\textbf{R} = \\{AB,AC,BC,BD,CD\\}$$\n",
    "$$\\textbf{R}_p:$$\n",
    "|$p$|$\\textbf{R}_p$|\n",
    "|-|-|\n",
    "|$A$|$\\{AB,AC\\}$|\n",
    "|$B$|$\\{AB,BC,BD\\}$|\n",
    "|$C$|$\\{AC,BC,CD\\}$|\n",
    "|$D$|$\\{BD,CD\\}$|\n",
    "\n",
    "I'll go ahead and code in $R_p$. You code in the rest of the sets.\n",
    "\n",
    "Make sure to code in each index as an individual string. For example to write the letter A or the string AB in python, you must wrap them in quotation marks: ```\"A\"```, ```\"AB\"```"
   ]
  },
  {
   "cell_type": "code",
   "execution_count": 16,
   "metadata": {},
   "outputs": [],
   "source": [
    "#TODO: Code in set \"P\" here.\n",
    "\n",
    "\n",
    "#TODO: Code in set \"P_NON_TERM\" here.\n",
    "\n",
    "\n",
    "#TODO: Code in set \"P_TERM\" here.\n",
    "\n",
    "\n",
    "#TODO: Code in set \"R\" here.\n",
    "\n",
    "\n",
    "model.R_A = pyo.Set(initialize=[\"AB\",\"AC\"])\n",
    "model.R_B = pyo.Set(initialize=[\"AB\",\"BC\",\"BD\"])\n",
    "model.R_C = pyo.Set(initialize=[\"AC\",\"BC\",\"CD\"])\n",
    "model.R_D = pyo.Set(initialize=[\"BD\",\"CD\"])\n",
    "\n",
    "#This line just allows us to be able to reference each subset \"p\" of R_p using an easy syntax.\n",
    "model.R_p = {\"A\": model.R_A, \"B\": model.R_B, \"C\": model.R_C, \"D\": model.R_D}"
   ]
  },
  {
   "cell_type": "markdown",
   "metadata": {},
   "source": [
    "### Step 3: Define parameter values\n",
    "\n",
    "For this problem, there is only one parameter: $\\delta_r$\n",
    "\n",
    "Here are the values:\n",
    "\n",
    "|$r$|$\\delta_r$|\n",
    "|-|-|\n",
    "|$AB$|15|\n",
    "|$AC$|5|\n",
    "|$BC$|4|\n",
    "|$BD$|2|\n",
    "|$CD$|10|\n",
    "\n",
    "Go ahead and code in these values."
   ]
  },
  {
   "cell_type": "code",
   "execution_count": 17,
   "metadata": {},
   "outputs": [],
   "source": [
    "delta = {\n",
    "    \"AB\": __VALUE_HERE__,\n",
    "    \"AC\": __VALUE_HERE__,\n",
    "    \"BC\": __VALUE_HERE__,\n",
    "    \"BD\": __VALUE_HERE__,\n",
    "    \"CD\": __VALUE_HERE__\n",
    "}"
   ]
  },
  {
   "cell_type": "markdown",
   "metadata": {},
   "source": [
    "### Step 4: Define Pyomo Variables\n",
    "\n",
    "Here are the variables for this problem:\n",
    "\n",
    "$$X_r \\ \\ \\ \\forall r \\in \\textbf{R} \\ \\text{(Binary Variable)}$$\n",
    "$$Y_p \\ \\ \\ \\forall p \\in \\textbf{P} \\ \\text{(Binary Variable)}$$"
   ]
  },
  {
   "cell_type": "code",
   "execution_count": 18,
   "metadata": {},
   "outputs": [],
   "source": [
    "#TODO: Code in the X variable here\n",
    "\n",
    "\n",
    "#TODO: Code in the Y variable here\n"
   ]
  },
  {
   "cell_type": "markdown",
   "metadata": {},
   "source": [
    "### Step 5: Define Constraints\n",
    "\n",
    "Here are the constraints for this problem. Code them in one by one."
   ]
  },
  {
   "cell_type": "markdown",
   "metadata": {},
   "source": [
    "* If I travel into a non-terminal point, I must travel out of it.\n",
    "\n",
    "$$\\sum_{r \\in \\textbf{R}_p} X_r = 2Y_p \\ \\ \\ \\forall p \\in \\textbf{P}^{NON-TERM}$$"
   ]
  },
  {
   "cell_type": "code",
   "execution_count": 19,
   "metadata": {},
   "outputs": [],
   "source": [
    "#TODO: Code in this constraint here\n"
   ]
  },
  {
   "cell_type": "markdown",
   "metadata": {},
   "source": [
    "* If I travel into or out of a terminal constraint, I must indicate it.\n",
    "\n",
    "$$\\sum_{r \\in \\textbf{R}_p} X_r = Y_p \\ \\ \\ \\forall p \\in \\textbf{P}^{TERM}$$"
   ]
  },
  {
   "cell_type": "code",
   "execution_count": 20,
   "metadata": {},
   "outputs": [],
   "source": [
    "#TODO: Code in this constraint here\n"
   ]
  },
  {
   "cell_type": "markdown",
   "metadata": {},
   "source": [
    "* I have to visit point A and point D.\n",
    "$$Y_p = 1 \\ \\ \\ \\ \\forall p \\in \\textbf{P}^{TERM}$$"
   ]
  },
  {
   "cell_type": "code",
   "execution_count": 21,
   "metadata": {},
   "outputs": [],
   "source": [
    "#TODO: Code in this constraint here\n"
   ]
  },
  {
   "cell_type": "markdown",
   "metadata": {},
   "source": [
    "### Step 6: Define the Objective\n",
    "\n",
    "Here is the objective function for this problem:\n",
    "\n",
    "$$\\min \\sum_{r \\in \\textbf{R}} \\delta_r X_r$$"
   ]
  },
  {
   "cell_type": "code",
   "execution_count": 22,
   "metadata": {},
   "outputs": [],
   "source": [
    "#TODO: Code in this objective here\n"
   ]
  },
  {
   "cell_type": "markdown",
   "metadata": {},
   "source": [
    "### Step 7: Solve (a.k.a. Optimize) the Model"
   ]
  },
  {
   "cell_type": "code",
   "execution_count": 23,
   "metadata": {},
   "outputs": [
    {
     "data": {
      "text/plain": [
       "{'Problem': [{'Lower bound': 11.0, 'Upper bound': 11.0, 'Number of objectives': 1, 'Number of constraints': 0, 'Number of variables': 0, 'Sense': 1}], 'Solver': [{'Status': 'ok', 'Termination condition': 'optimal', 'Termination message': 'TerminationCondition.optimal'}], 'Solution': [OrderedDict([('number of solutions', 0), ('number of solutions displayed', 0)])]}"
      ]
     },
     "execution_count": 23,
     "metadata": {},
     "output_type": "execute_result"
    }
   ],
   "source": [
    "#TODO: Create a solver object here (remember to use the \"appsi_highs\" solver)\n",
    "\n",
    "#TODO: Solve the model here\n"
   ]
  },
  {
   "cell_type": "markdown",
   "metadata": {},
   "source": [
    "### Step 8: Extract Results.\n",
    "\n",
    "The details of what you want to extract and how you'll represent the optimal solution are up to you and are specific to the problem you're trying to solve.\n",
    "\n",
    "For this example problem, let's simply print out each of the paths that the solver indicates we should take."
   ]
  },
  {
   "cell_type": "code",
   "execution_count": 24,
   "metadata": {},
   "outputs": [
    {
     "name": "stdout",
     "output_type": "stream",
     "text": [
      "AC\n",
      "BC\n",
      "BD\n"
     ]
    }
   ],
   "source": [
    "#TODO: Create a Python for loop here to iterate over each of the paths in \"R\"\n",
    "\n",
    "\n",
    "    #TODO: Extract the value of \"X\" for this path and store it in a python variable called \"Xval\"\n",
    "\n",
    "\n",
    "\n",
    "    #TODO: Test if Xval is greater than 0.5. If it is, print out the name of this path.\n",
    "    #Remember that X should return a binary value. Thus the only valid value greater than 0.5 would be 1. However, computers always have a hard time comparing numbers that are very close.\n",
    "    #For example, the solver might return that the value of Xval is 0.999999999\n",
    "    #If we check 0.9999999999 == 1, we will get False.\n",
    "    #Thus, checking to see if Xval >= 0.5 is an acceptable way to test the value of a binary result.\n"
   ]
  },
  {
   "cell_type": "markdown",
   "metadata": {},
   "source": [
    "This is a simple problem that you can probably solve without a computer. Go back up and look at the map. What should the optimal path be?\n",
    "\n",
    "Are the results you got correct?"
   ]
  },
  {
   "cell_type": "markdown",
   "metadata": {},
   "source": [
    "# SECTION 3: My Recommended Pyomo Workflow\n",
    "\n",
    "Here is another rendition of the RoutePlanning Problem but this time using my recommended way of organizing your code.\n",
    "\n",
    "As a note, this is approach is one way to organize your code. It is by no means the only way to do it, nor is it the \"best\" way to do it.\n",
    "\n",
    "But in the hundreds of models I've created, I've found this approach to be a good way to keep things organized, readable, and typo-free."
   ]
  },
  {
   "cell_type": "code",
   "execution_count": 25,
   "metadata": {},
   "outputs": [],
   "source": [
    "class Parameters:\n",
    "    \"\"\"\n",
    "    A class to house all the parameters relevant to the Route Planning Example Problem\n",
    "    \"\"\"\n",
    "    def __init__(self):\n",
    "        #Specify all parameters here making sure to say \"self.\" before each one.\n",
    "        self.Points = [\"A\",\"B\",\"C\",\"D\"]\n",
    "        self.Connections = [\"AB\",\"AC\",\"BC\",\"BD\",\"CD\"]\n",
    "        self.TerminalPoints = [\"A\",\"D\"]\n",
    "\n",
    "        self.delta = {\n",
    "            \"AB\": 15,\n",
    "            \"AC\": 5,\n",
    "            \"BC\": 4,\n",
    "            \"BD\": 2,\n",
    "            \"CD\": 10\n",
    "        }"
   ]
  },
  {
   "cell_type": "code",
   "execution_count": 26,
   "metadata": {},
   "outputs": [],
   "source": [
    "from PyomoTools import LoadIndexedSet\n",
    "\n",
    "def AssembleModel(params:Parameters):\n",
    "    \"\"\"\n",
    "    A function to generate an instance of the Pyomo model for the Route Planning Example Problem.\n",
    "\n",
    "    Parameters\n",
    "    ----------\n",
    "    params: Parameters\n",
    "        The Parameters object containing the parameters relevant to this instance.\n",
    "\n",
    "    Returns\n",
    "    -------\n",
    "    model: pyo.ConcreteModel\n",
    "        The Pyomo model for this instance.\n",
    "    \"\"\"\n",
    "\n",
    "    ### STEP 1: Define the Pyomo model\n",
    "    model = pyo.ConcreteModel()\n",
    "\n",
    "    ### STEP 2: Define sets\n",
    "    model.P = pyo.Set(initialize=params.Points)\n",
    "    model.P_NON_TERM = pyo.Set(initialize=list(set(params.Points) - set(params.TerminalPoints)))\n",
    "    model.P_TERM = pyo.Set(initialize=params.TerminalPoints)\n",
    "    model.R = pyo.Set(initialize=params.Connections)\n",
    "    \n",
    "    Rp = {p: [r for r in model.R if p in r] for p in model.P}\n",
    "    LoadIndexedSet(model,\"R_p\",Rp) #This is a function I created to automate the process of adding subsets into a Pyomo model.\n",
    "\n",
    "    ### Step 3: Define oarameters\n",
    "    #This is already done in the Parameters class\n",
    "\n",
    "    ### Step 4: Define variables\n",
    "    model.X = pyo.Var(model.R,domain=pyo.Binary)\n",
    "\n",
    "    model.Y = pyo.Var(model.P,domain=pyo.Binary)\n",
    "\n",
    "    ### Step 5: Define constraints\n",
    "    def NonTerminalTravelConstraint(model,p):\n",
    "        return sum(model.X[r] for r in model.R_p[p]) == 2 * model.Y[p]\n",
    "    model.NonTerminalTravelConstraint = pyo.Constraint(model.P_NON_TERM,rule=NonTerminalTravelConstraint)\n",
    "\n",
    "    def TerminalTravelConstraint(model,p):\n",
    "        return sum(model.X[r] for r in model.R_p[p]) == model.Y[p]\n",
    "    model.TerminalTravelConstraint = pyo.Constraint(model.P_TERM,rule=TerminalTravelConstraint)\n",
    "\n",
    "    def TerminalMandate(model,p):\n",
    "        return model.Y[p] == 1\n",
    "    model.TerminalMandate = pyo.Constraint(model.P_TERM,rule=TerminalMandate)\n",
    "\n",
    "    ### Step 6: Define Objective\n",
    "    model.Obj = pyo.Objective(expr=sum(params.delta[r] * model.X[r] for r in model.R))\n",
    "\n",
    "    return model\n"
   ]
  },
  {
   "cell_type": "code",
   "execution_count": 27,
   "metadata": {},
   "outputs": [],
   "source": [
    "def ExecuteOptimization(model:pyo.ConcreteModel):\n",
    "    \"\"\"\n",
    "    A function to execute the optimization of a pyomo model.\n",
    "\n",
    "    Parameters\n",
    "    ----------\n",
    "    model: pyo.ConcreteModel\n",
    "        The model you'd like to optimize\n",
    "\n",
    "    Returns\n",
    "    -------\n",
    "    None\n",
    "    \"\"\"\n",
    "\n",
    "    #Sometimes there are lots of settings you want to set or special functions you want to call to record the output of this \"solve call\". That's why I normally have a dedicated function for this. But I suppose it's less necessary for this simple problem.\n",
    "    solver = pyo.SolverFactory(\"appsi_highs\")\n",
    "    solver.solve(model)"
   ]
  },
  {
   "cell_type": "code",
   "execution_count": 29,
   "metadata": {},
   "outputs": [],
   "source": [
    "def ExtractResults(model:pyo.ConcreteModel):\n",
    "    \"\"\"\n",
    "    A function to extract the results of a Route Planning Problem model\n",
    "\n",
    "    Parameters\n",
    "    ----------\n",
    "    model: pyo.ConcreteModel\n",
    "        The model from which you'd like to extract the results\n",
    "\n",
    "    Returns\n",
    "    -------\n",
    "    traveledPaths: list\n",
    "        A list of the paths that are to be traveled under the optimal solution\n",
    "    \"\"\"\n",
    "    traveledPaths = []\n",
    "    for r in model.R:\n",
    "        Xval = pyo.value(model.X[r])\n",
    "        if Xval >= 0.5:\n",
    "            traveledPaths.append(r)\n",
    "    return traveledPaths"
   ]
  },
  {
   "cell_type": "code",
   "execution_count": 30,
   "metadata": {},
   "outputs": [
    {
     "name": "stdout",
     "output_type": "stream",
     "text": [
      "['AC', 'BC', 'BD']\n"
     ]
    }
   ],
   "source": [
    "def main():\n",
    "    params = Parameters()\n",
    "    model = AssembleModel(params)\n",
    "    ExecuteOptimization(model)\n",
    "    results = ExtractResults(model)\n",
    "\n",
    "    print(results)\n",
    "\n",
    "main()"
   ]
  }
 ],
 "metadata": {
  "kernelspec": {
   "display_name": "Maravelias",
   "language": "python",
   "name": "python3"
  },
  "language_info": {
   "codemirror_mode": {
    "name": "ipython",
    "version": 3
   },
   "file_extension": ".py",
   "mimetype": "text/x-python",
   "name": "python",
   "nbconvert_exporter": "python",
   "pygments_lexer": "ipython3",
   "version": "3.10.12"
  }
 },
 "nbformat": 4,
 "nbformat_minor": 2
}
